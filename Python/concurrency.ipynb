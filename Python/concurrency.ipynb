{
 "cells": [
  {
   "cell_type": "code",
   "execution_count": null,
   "metadata": {
    "ExecuteTime": {
     "end_time": "2020-01-18T13:43:46.271483Z",
     "start_time": "2020-01-18T13:43:46.266852Z"
    }
   },
   "outputs": [],
   "source": [
    "import threading\n",
    "from queue import Queue\n",
    "import random\n",
    "import time"
   ]
  },
  {
   "cell_type": "markdown",
   "metadata": {
    "ExecuteTime": {
     "end_time": "2020-01-18T12:10:11.381125Z",
     "start_time": "2020-01-18T12:10:11.377911Z"
    },
    "heading_collapsed": true
   },
   "source": [
    "## Locks"
   ]
  },
  {
   "cell_type": "code",
   "execution_count": null,
   "metadata": {
    "ExecuteTime": {
     "end_time": "2020-01-18T12:00:32.514307Z",
     "start_time": "2020-01-18T12:00:32.511179Z"
    },
    "hidden": true
   },
   "outputs": [],
   "source": [
    "lock = threading.Lock()\n",
    "z = 0"
   ]
  },
  {
   "cell_type": "code",
   "execution_count": null,
   "metadata": {
    "ExecuteTime": {
     "end_time": "2020-01-18T12:01:02.949043Z",
     "start_time": "2020-01-18T12:01:02.944595Z"
    },
    "hidden": true
   },
   "outputs": [],
   "source": [
    "def f(text, i):\n",
    "    global z\n",
    "    print(f\"Sleeping... {text} \")\n",
    "    time.sleep(5-i)\n",
    "    print(f\"AWAKE: {text}!\")\n",
    "    with lock:\n",
    "        z+=1\n",
    "        time.sleep(5-i)\n",
    "        print(z, f\"was added by {text}\")"
   ]
  },
  {
   "cell_type": "code",
   "execution_count": null,
   "metadata": {
    "ExecuteTime": {
     "end_time": "2020-01-18T12:01:03.410335Z",
     "start_time": "2020-01-18T12:01:03.403470Z"
    },
    "hidden": true,
    "scrolled": true
   },
   "outputs": [],
   "source": [
    "threads = []\n",
    "for i in range(5):\n",
    "    t = threading.Thread(target=f, args=(f\"x{i}\", i))\n",
    "    threads.append(t)\n",
    "    t.start()\n",
    "# [t.join() for t in]"
   ]
  },
  {
   "cell_type": "markdown",
   "metadata": {
    "ExecuteTime": {
     "end_time": "2020-01-18T12:10:04.060720Z",
     "start_time": "2020-01-18T12:10:04.057780Z"
    },
    "heading_collapsed": true
   },
   "source": [
    "## Semaphores"
   ]
  },
  {
   "cell_type": "code",
   "execution_count": null,
   "metadata": {
    "ExecuteTime": {
     "end_time": "2020-01-18T12:13:03.554281Z",
     "start_time": "2020-01-18T12:13:03.551054Z"
    },
    "hidden": true
   },
   "outputs": [],
   "source": [
    "semaphore = threading.Semaphore(2)\n",
    "z = 0"
   ]
  },
  {
   "cell_type": "code",
   "execution_count": null,
   "metadata": {
    "ExecuteTime": {
     "end_time": "2020-01-18T12:13:03.868479Z",
     "start_time": "2020-01-18T12:13:03.864580Z"
    },
    "hidden": true
   },
   "outputs": [],
   "source": [
    "def s(text, i):\n",
    "    global z\n",
    "    with semaphore:\n",
    "        print(f\"Welcome... {text} \")\n",
    "        print(f\"{text} will sleep for {5-i}\")\n",
    "        z+=1\n",
    "        time.sleep(5-i)\n",
    "        print(z, f\"was added by {text}\")"
   ]
  },
  {
   "cell_type": "code",
   "execution_count": null,
   "metadata": {
    "ExecuteTime": {
     "end_time": "2020-01-18T12:13:13.552085Z",
     "start_time": "2020-01-18T12:13:05.532659Z"
    },
    "hidden": true,
    "scrolled": true
   },
   "outputs": [],
   "source": [
    "threads = []\n",
    "for i in range(5):\n",
    "    t = threading.Thread(target=s, args=(f\"x{i}\", i))\n",
    "    threads.append(t)\n",
    "    t.start()\n",
    "[t.join() for t in threads]"
   ]
  },
  {
   "cell_type": "markdown",
   "metadata": {
    "ExecuteTime": {
     "end_time": "2020-01-18T12:26:51.679032Z",
     "start_time": "2020-01-18T12:26:51.675931Z"
    },
    "heading_collapsed": true
   },
   "source": [
    "## Queues"
   ]
  },
  {
   "cell_type": "code",
   "execution_count": null,
   "metadata": {
    "ExecuteTime": {
     "end_time": "2020-01-18T12:38:18.143333Z",
     "start_time": "2020-01-18T12:38:18.138501Z"
    },
    "hidden": true
   },
   "outputs": [],
   "source": [
    "def create_item(i):\n",
    "    sleep_time = random.random()\n",
    "    print(f\"creating {i}\")\n",
    "    time.sleep(sleep_time)\n",
    "    return i\n",
    "\n",
    "def use_item(i):\n",
    "    sleep_time = random.random()\n",
    "    time.sleep(sleep_time)\n",
    "    print(f\"used {i}\")"
   ]
  },
  {
   "cell_type": "code",
   "execution_count": null,
   "metadata": {
    "ExecuteTime": {
     "end_time": "2020-01-18T12:51:55.914087Z",
     "start_time": "2020-01-18T12:51:55.907919Z"
    },
    "hidden": true
   },
   "outputs": [],
   "source": [
    "POISON_PILL = \"MUAHHAHAHAHAHAH\"\n",
    "def producer(queue):\n",
    "    for i in range(10):\n",
    "        item = create_item(i)\n",
    "        queue.put(item)\n",
    "    queue.put(POISON_PILL)\n",
    "        \n",
    "def consumer(queue):\n",
    "    while True:\n",
    "        print(\"Waiting...\")\n",
    "        item = queue.get()\n",
    "        \n",
    "        if item is not POISON_PILL:        \n",
    "            use_item(item)\n",
    "            queue.task_done()\n",
    "            print(f\"Done {item}\")\n",
    "        else:\n",
    "            print(\"POISON_PILL'D... finito\")\n",
    "            queue.task_done()\n",
    "            break"
   ]
  },
  {
   "cell_type": "code",
   "execution_count": null,
   "metadata": {
    "ExecuteTime": {
     "end_time": "2020-01-18T12:57:24.766525Z",
     "start_time": "2020-01-18T12:57:17.963721Z"
    },
    "hidden": true,
    "scrolled": true
   },
   "outputs": [],
   "source": [
    "queue = Queue()\n",
    "t1 = threading.Thread(target=producer, args=(queue,) )\n",
    "t2 = threading.Thread(target=consumer, args=(queue,) )\n",
    "\n",
    "t1.start()\n",
    "t2.start()\n",
    "t1.join()\n",
    "t2.join()\n",
    "queue.join()"
   ]
  },
  {
   "cell_type": "markdown",
   "metadata": {
    "ExecuteTime": {
     "end_time": "2020-01-18T13:06:05.780746Z",
     "start_time": "2020-01-18T13:06:05.777748Z"
    }
   },
   "source": [
    "# Executor"
   ]
  },
  {
   "cell_type": "code",
   "execution_count": null,
   "metadata": {
    "ExecuteTime": {
     "end_time": "2020-01-18T13:43:57.986481Z",
     "start_time": "2020-01-18T13:43:57.983167Z"
    }
   },
   "outputs": [],
   "source": [
    "from concurrent.futures import ThreadPoolExecutor, ProcessPoolExecutor\n"
   ]
  },
  {
   "cell_type": "code",
   "execution_count": null,
   "metadata": {
    "ExecuteTime": {
     "end_time": "2020-01-18T13:45:21.859994Z",
     "start_time": "2020-01-18T13:45:21.855804Z"
    }
   },
   "outputs": [],
   "source": [
    "def return_it(item, timeout):\n",
    "    time.sleep(timeout)\n",
    "    return item"
   ]
  },
  {
   "cell_type": "code",
   "execution_count": null,
   "metadata": {
    "ExecuteTime": {
     "end_time": "2020-01-18T13:36:57.449258Z",
     "start_time": "2020-01-18T13:36:52.010006Z"
    }
   },
   "outputs": [],
   "source": [
    "\n",
    "with ProcessPoolExecutor(max_workers=None) as executor:\n",
    "    future_1 = executor.submit(return_it, \"item_5\", 5)\n",
    "    future_2 = executor.submit(return_it, \"item_4\", 4)\n",
    "    future_3 = executor.submit(return_it, \"item_3\", 3)\n",
    "\n",
    "print(future_1.result(), future_2.result(), future_3.result())\n",
    "\n",
    "# Takes 5 seconds"
   ]
  },
  {
   "cell_type": "code",
   "execution_count": null,
   "metadata": {
    "ExecuteTime": {
     "end_time": "2020-01-18T13:51:25.644180Z",
     "start_time": "2020-01-18T13:51:25.640566Z"
    }
   },
   "outputs": [],
   "source": [
    "executor = ThreadPoolExecutor()\n",
    "arg_combos = [(\"item_5\", 5), (\"item_4\", 4), (\"item_3\", 3)]"
   ]
  },
  {
   "cell_type": "code",
   "execution_count": null,
   "metadata": {
    "ExecuteTime": {
     "end_time": "2020-01-18T13:52:03.030380Z",
     "start_time": "2020-01-18T13:52:03.025587Z"
    }
   },
   "outputs": [],
   "source": [
    "future = executor.submit(return_it, \"item_5\", 2)\n",
    "future.add_done_callback(lambda x: print(f\"Im done {x.result()}!\"))"
   ]
  },
  {
   "cell_type": "code",
   "execution_count": null,
   "metadata": {
    "ExecuteTime": {
     "end_time": "2020-01-18T13:51:23.939114Z",
     "start_time": "2020-01-18T13:51:23.935236Z"
    }
   },
   "outputs": [],
   "source": [
    "executor.shutdown()"
   ]
  },
  {
   "cell_type": "code",
   "execution_count": null,
   "metadata": {
    "ExecuteTime": {
     "end_time": "2020-01-18T13:48:50.408384Z",
     "start_time": "2020-01-18T13:48:46.052394Z"
    }
   },
   "outputs": [],
   "source": [
    "future.result()"
   ]
  },
  {
   "cell_type": "code",
   "execution_count": null,
   "metadata": {
    "ExecuteTime": {
     "end_time": "2020-01-18T13:48:56.164750Z",
     "start_time": "2020-01-18T13:48:56.160868Z"
    }
   },
   "outputs": [],
   "source": [
    "executor.shutdown()"
   ]
  },
  {
   "cell_type": "markdown",
   "metadata": {
    "ExecuteTime": {
     "end_time": "2020-01-18T12:54:45.001262Z",
     "start_time": "2020-01-18T12:54:44.998080Z"
    },
    "heading_collapsed": true
   },
   "source": [
    "# MultiProcess"
   ]
  },
  {
   "cell_type": "code",
   "execution_count": null,
   "metadata": {
    "hidden": true
   },
   "outputs": [],
   "source": []
  },
  {
   "cell_type": "markdown",
   "metadata": {
    "heading_collapsed": true
   },
   "source": [
    "# AsyncIO"
   ]
  },
  {
   "cell_type": "markdown",
   "metadata": {
    "heading_collapsed": true,
    "hidden": true
   },
   "source": [
    "## Py3.5"
   ]
  },
  {
   "cell_type": "code",
   "execution_count": 14,
   "metadata": {
    "ExecuteTime": {
     "end_time": "2020-01-18T17:05:16.828575Z",
     "start_time": "2020-01-18T17:05:16.750992Z"
    },
    "collapsed": true,
    "hidden": true
   },
   "outputs": [
    {
     "ename": "RuntimeError",
     "evalue": "This event loop is already running",
     "output_type": "error",
     "traceback": [
      "\u001b[0;31m---------------------------------------------------------------------------\u001b[0m",
      "\u001b[0;31mRuntimeError\u001b[0m                              Traceback (most recent call last)",
      "\u001b[0;32m<ipython-input-14-201faed9eb5c>\u001b[0m in \u001b[0;36m<module>\u001b[0;34m\u001b[0m\n\u001b[1;32m     23\u001b[0m \u001b[0mfuture3\u001b[0m \u001b[0;34m=\u001b[0m \u001b[0masyncio\u001b[0m\u001b[0;34m.\u001b[0m\u001b[0mensure_future\u001b[0m\u001b[0;34m(\u001b[0m\u001b[0mcoro_increment\u001b[0m\u001b[0;34m(\u001b[0m\u001b[0;34m\"v3\"\u001b[0m\u001b[0;34m)\u001b[0m\u001b[0;34m)\u001b[0m\u001b[0;34m\u001b[0m\u001b[0;34m\u001b[0m\u001b[0m\n\u001b[1;32m     24\u001b[0m \u001b[0;34m\u001b[0m\u001b[0m\n\u001b[0;32m---> 25\u001b[0;31m \u001b[0mloop\u001b[0m\u001b[0;34m.\u001b[0m\u001b[0mrun_until_complete\u001b[0m\u001b[0;34m(\u001b[0m\u001b[0mfuture1\u001b[0m\u001b[0;34m)\u001b[0m  \u001b[0;31m# doesn't complete future2 and future3\u001b[0m\u001b[0;34m\u001b[0m\u001b[0;34m\u001b[0m\u001b[0m\n\u001b[0m\u001b[1;32m     26\u001b[0m \u001b[0;34m\u001b[0m\u001b[0m\n\u001b[1;32m     27\u001b[0m \u001b[0mgathered\u001b[0m \u001b[0;34m=\u001b[0m \u001b[0masyncio\u001b[0m\u001b[0;34m.\u001b[0m\u001b[0mgather\u001b[0m\u001b[0;34m(\u001b[0m\u001b[0mfuture1\u001b[0m\u001b[0;34m,\u001b[0m \u001b[0mfuture2\u001b[0m\u001b[0;34m,\u001b[0m \u001b[0mfuture3\u001b[0m\u001b[0;34m)\u001b[0m\u001b[0;34m\u001b[0m\u001b[0;34m\u001b[0m\u001b[0m\n",
      "\u001b[0;32m/opt/anaconda/envs/Python3/lib/python3.6/asyncio/base_events.py\u001b[0m in \u001b[0;36mrun_until_complete\u001b[0;34m(self, future)\u001b[0m\n\u001b[1;32m    473\u001b[0m         \u001b[0mfuture\u001b[0m\u001b[0;34m.\u001b[0m\u001b[0madd_done_callback\u001b[0m\u001b[0;34m(\u001b[0m\u001b[0m_run_until_complete_cb\u001b[0m\u001b[0;34m)\u001b[0m\u001b[0;34m\u001b[0m\u001b[0;34m\u001b[0m\u001b[0m\n\u001b[1;32m    474\u001b[0m         \u001b[0;32mtry\u001b[0m\u001b[0;34m:\u001b[0m\u001b[0;34m\u001b[0m\u001b[0;34m\u001b[0m\u001b[0m\n\u001b[0;32m--> 475\u001b[0;31m             \u001b[0mself\u001b[0m\u001b[0;34m.\u001b[0m\u001b[0mrun_forever\u001b[0m\u001b[0;34m(\u001b[0m\u001b[0;34m)\u001b[0m\u001b[0;34m\u001b[0m\u001b[0;34m\u001b[0m\u001b[0m\n\u001b[0m\u001b[1;32m    476\u001b[0m         \u001b[0;32mexcept\u001b[0m\u001b[0;34m:\u001b[0m\u001b[0;34m\u001b[0m\u001b[0;34m\u001b[0m\u001b[0m\n\u001b[1;32m    477\u001b[0m             \u001b[0;32mif\u001b[0m \u001b[0mnew_task\u001b[0m \u001b[0;32mand\u001b[0m \u001b[0mfuture\u001b[0m\u001b[0;34m.\u001b[0m\u001b[0mdone\u001b[0m\u001b[0;34m(\u001b[0m\u001b[0;34m)\u001b[0m \u001b[0;32mand\u001b[0m \u001b[0;32mnot\u001b[0m \u001b[0mfuture\u001b[0m\u001b[0;34m.\u001b[0m\u001b[0mcancelled\u001b[0m\u001b[0;34m(\u001b[0m\u001b[0;34m)\u001b[0m\u001b[0;34m:\u001b[0m\u001b[0;34m\u001b[0m\u001b[0;34m\u001b[0m\u001b[0m\n",
      "\u001b[0;32m/opt/anaconda/envs/Python3/lib/python3.6/asyncio/base_events.py\u001b[0m in \u001b[0;36mrun_forever\u001b[0;34m(self)\u001b[0m\n\u001b[1;32m    427\u001b[0m         \u001b[0mself\u001b[0m\u001b[0;34m.\u001b[0m\u001b[0m_check_closed\u001b[0m\u001b[0;34m(\u001b[0m\u001b[0;34m)\u001b[0m\u001b[0;34m\u001b[0m\u001b[0;34m\u001b[0m\u001b[0m\n\u001b[1;32m    428\u001b[0m         \u001b[0;32mif\u001b[0m \u001b[0mself\u001b[0m\u001b[0;34m.\u001b[0m\u001b[0mis_running\u001b[0m\u001b[0;34m(\u001b[0m\u001b[0;34m)\u001b[0m\u001b[0;34m:\u001b[0m\u001b[0;34m\u001b[0m\u001b[0;34m\u001b[0m\u001b[0m\n\u001b[0;32m--> 429\u001b[0;31m             \u001b[0;32mraise\u001b[0m \u001b[0mRuntimeError\u001b[0m\u001b[0;34m(\u001b[0m\u001b[0;34m'This event loop is already running'\u001b[0m\u001b[0;34m)\u001b[0m\u001b[0;34m\u001b[0m\u001b[0;34m\u001b[0m\u001b[0m\n\u001b[0m\u001b[1;32m    430\u001b[0m         \u001b[0;32mif\u001b[0m \u001b[0mevents\u001b[0m\u001b[0;34m.\u001b[0m\u001b[0m_get_running_loop\u001b[0m\u001b[0;34m(\u001b[0m\u001b[0;34m)\u001b[0m \u001b[0;32mis\u001b[0m \u001b[0;32mnot\u001b[0m \u001b[0;32mNone\u001b[0m\u001b[0;34m:\u001b[0m\u001b[0;34m\u001b[0m\u001b[0;34m\u001b[0m\u001b[0m\n\u001b[1;32m    431\u001b[0m             raise RuntimeError(\n",
      "\u001b[0;31mRuntimeError\u001b[0m: This event loop is already running"
     ]
    },
    {
     "name": "stdout",
     "output_type": "stream",
     "text": [
      "Started v1\n",
      "v2 has run for 1 seconds\n",
      "v3 has run for 1 seconds\n",
      "I (v2) got access back\n",
      "v2 has run for 2 seconds\n",
      "I (v3) got access back\n",
      "v3 has run for 2 seconds\n",
      "I (v2) got access back\n",
      "v2 has run for 3 seconds\n",
      "I (v3) got access back\n",
      "v3 has run for 3 seconds\n",
      "Finished v1\n",
      "I (v2) got access back\n",
      "v2 has run for 4 seconds\n",
      "I (v3) got access back\n",
      "v3 has run for 4 seconds\n",
      "I (v2) got access back\n",
      "v2 has run for 5 seconds\n",
      "I (v3) got access back\n",
      "v3 has run for 5 seconds\n",
      "I (v2) got access back\n",
      "I (v3) got access back\n"
     ]
    }
   ],
   "source": [
    "import asyncio\n",
    "\n",
    "\n",
    "async def delayed_hello(text, sleep_time):\n",
    "    print(f\"Started {text}\")\n",
    "    await asyncio.sleep(sleep_time)\n",
    "    print(f\"Finished {text}\")\n",
    "    return text\n",
    "\n",
    "\n",
    "async def coro_increment(id):\n",
    "    i = 0\n",
    "    for i in range(1, 6):\n",
    "        print(f\"{id} has run for {i} seconds\")\n",
    "        await asyncio.sleep(1)\n",
    "        print(f\"I ({id}) got access back\")\n",
    "    return i\n",
    "\n",
    "loop = asyncio.get_event_loop()\n",
    "\n",
    "future1 = asyncio.ensure_future(delayed_hello(\"v1\", 3))\n",
    "future2 = asyncio.ensure_future(coro_increment(\"v2\"))\n",
    "future3 = asyncio.ensure_future(coro_increment(\"v3\"))\n",
    "\n",
    "loop.run_until_complete(future1)  # doesn't complete future2 and future3\n",
    "\n",
    "gathered = asyncio.gather(future1, future2, future3)\n",
    "\n",
    "# True, False, False\n",
    "print(\"Completion Status:\".center(30,\"=\"), future1.done(), future2.done(), future3.done())\n",
    "   \n",
    "loop.run_until_complete(gathered)  # waits for future2 and future3 to finish\n",
    "\n",
    "# True, True, True\n",
    "print(\"Completion Status:\".center(30,\"=\"), future1.done(), future2.done(), future3.done())\n"
   ]
  },
  {
   "cell_type": "markdown",
   "metadata": {
    "heading_collapsed": true,
    "hidden": true
   },
   "source": [
    "## Py3.7"
   ]
  },
  {
   "cell_type": "code",
   "execution_count": 15,
   "metadata": {
    "ExecuteTime": {
     "end_time": "2020-01-18T17:05:37.651365Z",
     "start_time": "2020-01-18T17:05:37.639556Z"
    },
    "hidden": true
   },
   "outputs": [
    {
     "ename": "AttributeError",
     "evalue": "module 'asyncio' has no attribute 'run'",
     "output_type": "error",
     "traceback": [
      "\u001b[0;31m---------------------------------------------------------------------------\u001b[0m",
      "\u001b[0;31mAttributeError\u001b[0m                            Traceback (most recent call last)",
      "\u001b[0;32m<ipython-input-15-428d98260308>\u001b[0m in \u001b[0;36m<module>\u001b[0;34m\u001b[0m\n\u001b[1;32m     30\u001b[0m \u001b[0;34m\u001b[0m\u001b[0m\n\u001b[1;32m     31\u001b[0m \u001b[0mloop\u001b[0m \u001b[0;34m=\u001b[0m \u001b[0masyncio\u001b[0m\u001b[0;34m.\u001b[0m\u001b[0mget_event_loop\u001b[0m\u001b[0;34m(\u001b[0m\u001b[0;34m)\u001b[0m\u001b[0;34m\u001b[0m\u001b[0;34m\u001b[0m\u001b[0m\n\u001b[0;32m---> 32\u001b[0;31m \u001b[0mx\u001b[0m \u001b[0;34m=\u001b[0m \u001b[0masyncio\u001b[0m\u001b[0;34m.\u001b[0m\u001b[0mrun\u001b[0m\u001b[0;34m(\u001b[0m\u001b[0mmain\u001b[0m\u001b[0;34m(\u001b[0m\u001b[0;34m)\u001b[0m\u001b[0;34m)\u001b[0m\u001b[0;34m\u001b[0m\u001b[0;34m\u001b[0m\u001b[0m\n\u001b[0m",
      "\u001b[0;31mAttributeError\u001b[0m: module 'asyncio' has no attribute 'run'"
     ]
    }
   ],
   "source": [
    "import asyncio\n",
    "\n",
    "\n",
    "async def long_IO():\n",
    "    print(\"[Long] start\")\n",
    "    await asyncio.sleep(2)\n",
    "    print(\"[Long] Done\")\n",
    "    return \"Done\"\n",
    "\n",
    "\n",
    "async def many_short_IO(id):\n",
    "    print(f\"[short] Lets go 1 - {id}\")\n",
    "    await asyncio.sleep(1)\n",
    "    print(f\"[short] carry on 2 - {id}\")\n",
    "    await asyncio.sleep(2)\n",
    "    print(f\"[short] almost there 3 - {id}\")\n",
    "    await asyncio.sleep(1)\n",
    "    return f\"[short] done! {id}\"\n",
    "\n",
    "\n",
    "async def main():\n",
    "\n",
    "    future1 = asyncio.create_task(long_IO())\n",
    "    future2 = asyncio.create_task(many_short_IO(\"v2\"))\n",
    "    future3 = asyncio.create_task(many_short_IO(\"v3\"))\n",
    "\n",
    "    await future1\n",
    "    await future2, future3\n",
    "    return [future1, future2, future3]\n",
    "\n",
    "loop = asyncio.get_event_loop()\n",
    "x = asyncio.run(main())\n"
   ]
  }
 ],
 "metadata": {
  "kernelspec": {
   "display_name": "Python [conda env:Python3]",
   "language": "python",
   "name": "conda-env-Python3-py"
  },
  "language_info": {
   "codemirror_mode": {
    "name": "ipython",
    "version": 3
   },
   "file_extension": ".py",
   "mimetype": "text/x-python",
   "name": "python",
   "nbconvert_exporter": "python",
   "pygments_lexer": "ipython3",
   "version": "3.6.10"
  }
 },
 "nbformat": 4,
 "nbformat_minor": 2
}
